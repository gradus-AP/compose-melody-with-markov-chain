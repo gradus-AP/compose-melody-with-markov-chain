{
 "cells": [
  {
   "attachments": {},
   "cell_type": "markdown",
   "metadata": {},
   "source": [
    "## マルコフ連鎖モデルでメロディー自動生成\n",
    "\n",
    "### 概要\n",
    "\n",
    "✅ マルコフ連鎖モデルを利用したメロディーのパターン生成.<br>\n",
    "✅ メロディー作成のデモ.\n",
    "\n",
    "### install\n",
    "\n",
    "まず以下のライブラリをインストール."
   ]
  },
  {
   "cell_type": "code",
   "execution_count": null,
   "metadata": {},
   "outputs": [],
   "source": [
    "!pip install music21 -q\n",
    "!pip install numpy -q\n",
    "!pip install ipywidgets -q"
   ]
  },
  {
   "attachments": {},
   "cell_type": "markdown",
   "metadata": {},
   "source": [
    "さらに, 楽譜作成ソフトのインストールも必要です. 以下のリンクより, MuseScoreのインストール(無料)を行なってください.\n",
    "\n",
    "[musescore](https://musescore.org/ja)"
   ]
  },
  {
   "attachments": {},
   "cell_type": "markdown",
   "metadata": {},
   "source": [
    "---\n",
    "\n",
    "### 1. マルコフ連鎖モデル\n",
    "\n",
    "マルコフ連鎖モデルは, 複数の状態間を確率的に移動するモデルで, 現在の状態から次の状態への遷移確率が現在の状態から決まるという性質を持つ. <br>\n",
    "このセクションでは, マルコフ連鎖モデルを導入および実装を行う.\n",
    "\n",
    "#### 1-1. マルコフ連鎖モデル\n",
    "\n",
    "複数の状態間を確率的に遷移するモデルに**マルコフ連鎖モデル**がある. マルコフ連鎖モデルでは, 現在の状態によって次の状態が確率的に決まるという条件で定義される. マルコフ連鎖モデルは, 系列データ(sequential data)の生成・分析にしばしば用いられる.\n",
    "\n",
    "> ${\\sf Def}$(マルコフ連鎖モデル)<br>\n",
    "> $\\mathcal{S} := \\{1, 2, \\ldots, n\\}$を状態の集合とする. $\\mathcal{S}$上の確率変数$X_t\\ (t = 0, 1, 2, \\ldots)$が**マルコフ連鎖**であるとは次の条件が成り立つことをいう：<br>\n",
    "> $$p(X_{t+1} = s_{t+1}|X_t = s_t, X_{t-1} = s_{t-1}, \\ldots, X_{t-m} = s_{t-m}) = p(X_{t + 1} = s_{t+1}|X_t = s_t)$$\n",
    "\n",
    "マルコフ連鎖モデルの中でも, 遷移確率$p(X_{t + 1} = s_{t+1}|X_t = s_t)$が時間$t$に関して変化しないものを**斉時マルコフ連鎖モデル**といい, 行列$(p_{ij}) := p(X_{t + 1} = j|X_t = i)$を**遷移行列**という. <br>\n",
    "マルコフ連鎖は, 遷移行列と初期状態を与えるとその後の状態が確率的に決まってしまうため, 遷移行列は最も重要なパラメータである.\n",
    "\n",
    "#### 1-2. 実装"
   ]
  },
  {
   "cell_type": "code",
   "execution_count": 2,
   "metadata": {},
   "outputs": [
    {
     "name": "stdout",
     "output_type": "stream",
     "text": [
      "I am a cat.I like a cat.I am a cat.I \n"
     ]
    }
   ],
   "source": [
    "import numpy as np\n",
    "\n",
    "\n",
    "class MarkovChainModel:\n",
    "    def __init__(self, states, transitionMatrix):\n",
    "        \"\"\"マルコフ連鎖モデルのクラス\n",
    "\n",
    "        Args:\n",
    "            states (array): 状態のリスト\n",
    "            transitionMatrix (Matrix): 遷移行列\n",
    "        \"\"\"\n",
    "        self._states = states\n",
    "        self._n = len(states)\n",
    "        self._transitionMatrix = transitionMatrix\n",
    "\n",
    "    def sample(self, len, start=0):\n",
    "        \"\"\"サンプルを生成します\n",
    "        Args:\n",
    "            len (int): 長さ\n",
    "            start (int, optional): 開始状態のindex. (規定値=0).\n",
    "\n",
    "        Returns:\n",
    "            list: 指定した長さのサンプルを返します\n",
    "        \"\"\"\n",
    "        history = [start]\n",
    "        state = start\n",
    "        for t in range(len-1):\n",
    "            # 遷移の更新\n",
    "            state = np.random.choice(self._n, p=self._transitionMatrix[state])\n",
    "            history.append(state)\n",
    "        return [self._states[i] for i in history]\n",
    "\n",
    "\n",
    "# 　モデルの作成\n",
    "model = MarkovChainModel(['I ', 'am ', 'like ', 'a cat.'],  # 状態の集合\n",
    "                         np.array([  # 遷移行列\n",
    "                             [0, 1/2, 1/2, 0],\n",
    "                             [0, 0, 0, 1],\n",
    "                             [0, 0, 0, 1],\n",
    "                             [1, 0, 0, 0]]))\n",
    "# サンプル生成(長さ=10)\n",
    "print(''.join(model.sample(10)))"
   ]
  },
  {
   "attachments": {},
   "cell_type": "markdown",
   "metadata": {},
   "source": [
    "---\n",
    "\n",
    "### 2. メロディー生成\n",
    "\n",
    "このセクションでは, マルコフ連鎖モデルを用いたメロディー生成について述べる. また簡単なメロディー作成のデモも行う.\n",
    "\n",
    "#### 2-1. メロディーを生成する\n",
    "\n",
    "メロディーを作成する場合, 以下のような手順で作成できる.\n",
    "\n",
    "1. 使用する音の集合(=スケール)を選ぶ.\n",
    "2. スケールから複数の音を取り出し, 音列を作る.\n",
    "3. 上で作成した音列にリズムを付加する.\n",
    "\n",
    "したがって上記の手順のうち, 1. 指定したスケールから音列を作成する 2. リズムを付加する, の2箇所においてマルコフ連鎖モデルを用いることで, メロディーの自動生成が可能である.\n",
    "\n",
    "#### 2-2. メロディー作成のデモ\n",
    "\n",
    "##### 2-2-1. 単一メロディー"
   ]
  },
  {
   "cell_type": "code",
   "execution_count": 4,
   "metadata": {},
   "outputs": [
    {
     "data": {
      "application/vnd.jupyter.widget-view+json": {
       "model_id": "ecec3755dbbb44b080d9d0e8c6b680db",
       "version_major": 2,
       "version_minor": 0
      },
      "text/plain": [
       "interactive(children=(IntSlider(value=10, description='l', max=30, min=-10), Output()), _dom_classes=('widget-…"
      ]
     },
     "metadata": {},
     "output_type": "display_data"
    }
   ],
   "source": [
    "import numpy as np\n",
    "from music21 import scale, note, duration, stream\n",
    "from ipywidgets import interact\n",
    "\n",
    "\n",
    "cMajScale = scale.MajorScale('c')  # Cメジャースケールを使用\n",
    "pitchList = [p for p in cMajScale.getPitches('c4', 'g4')]  # 使用音を指定\n",
    "\n",
    "# 音高の生成パターンのモデル\n",
    "pitchModel = MarkovChainModel(pitchList,  # 状態の集合\n",
    "                              np.array([  # 遷移行列\n",
    "                                  [0, 1/4, 0, 1/4, 1/2],\n",
    "                                  [1/4, 0, 0, 1/4, 1/2],\n",
    "                                  [1/2, 1/4, 0, 1/4, 0],\n",
    "                                  [1/2, 1/4, 0, 0, 1/4],\n",
    "                                  [0, 1/3, 1/3, 1/3, 0]]))\n",
    "\n",
    "# リズムの生成パターンのモデル\n",
    "rhythmicAtom = [duration.Duration(1), duration.Duration(\n",
    "    1/2), duration.Duration(1/4)]  # quarter, eighth, sixteenth\n",
    "rythmModel = MarkovChainModel(rhythmicAtom,\n",
    "                              np.array([  # 遷移行列\n",
    "                                  [1/4, 1/2, 1/4],\n",
    "                                  [1/4, 1/2, 1/4],\n",
    "                                  [0, 1/2, 1/2]]))\n",
    "\n",
    "\n",
    "@interact(l=10)\n",
    "def composeMelody(l):\n",
    "    patterns = 4  # パターン数\n",
    "    for i in range(patterns):\n",
    "        # 音列を生成\n",
    "        sequence = pitchModel.sample(l)\n",
    "        # リズムを生成\n",
    "        rythm = rythmModel.sample(l)\n",
    "\n",
    "        stm = stream.Stream()\n",
    "\n",
    "        for p, d in zip(sequence, rythm):\n",
    "            stm.append(note.Note(p, duration=d))\n",
    "\n",
    "        stm.show()\n",
    "        stm.show('midi')\n"
   ]
  },
  {
   "attachments": {},
   "cell_type": "markdown",
   "metadata": {},
   "source": [
    "##### 2-2-2. 2声の場合(メロディー+ベース)"
   ]
  },
  {
   "cell_type": "code",
   "execution_count": 5,
   "metadata": {},
   "outputs": [
    {
     "data": {
      "application/vnd.jupyter.widget-view+json": {
       "model_id": "fd55d8189b1f4b5396e55383e15b5001",
       "version_major": 2,
       "version_minor": 0
      },
      "text/plain": [
       "interactive(children=(Dropdown(description='i', options=(0, 1, 2, 3), value=0), Dropdown(description='j', opti…"
      ]
     },
     "metadata": {},
     "output_type": "display_data"
    }
   ],
   "source": [
    "import numpy as np\n",
    "from music21 import scale, note, pitch, duration, stream\n",
    "from ipywidgets import interact\n",
    "\n",
    "\n",
    "cMajScale = scale.MajorScale('c')  # Cメジャースケールを使用\n",
    "pitchList = [p for p in cMajScale.getPitches('c4', 'g4')]  # 使用音を指定\n",
    "\n",
    "# 音高の生成パターンのモデル(メロディー)\n",
    "mPitchModel = MarkovChainModel(pitchList,  # 状態の集合\n",
    "                               np.array([  # 遷移行列\n",
    "                                   [0, 1/4, 0, 1/4, 1/2],\n",
    "                                   [1/4, 0, 0, 1/4, 1/2],\n",
    "                                   [1/2, 1/4, 0, 1/4, 0],\n",
    "                                   [1/2, 1/4, 0, 0, 1/4],\n",
    "                                   [0, 1/3, 1/3, 1/3, 0]]))\n",
    "\n",
    "# リズムの生成パターンのモデル(メロディー)\n",
    "mRhythmicAtom = [duration.Duration(1), duration.Duration(\n",
    "    1/2), duration.Duration(1/4)]  # quarter, eighth, sixteenth\n",
    "mRythmModel = MarkovChainModel(rhythmicAtom,\n",
    "                               np.array([  # 遷移行列\n",
    "                                   [1/4, 1/2, 1/4],\n",
    "                                   [1/4, 1/2, 1/4],\n",
    "                                   [0, 1/2, 1/2]]))\n",
    "\n",
    "# 音高の生成パターンのモデル(ベース)\n",
    "bPitchModel = MarkovChainModel([pitch.Pitch(p) for p in ['c3', 'd3', 'g2']],  # 状態の集合\n",
    "                               np.array([  # 遷移行列\n",
    "                                   [0, 1/2, 1/2],\n",
    "                                   [1/2, 0, 1/2],\n",
    "                                   [1/3, 1/3, 1/3]]))\n",
    "\n",
    "# リズムの生成パターンのモデル(ベース)\n",
    "bRhythmicAtom = [duration.Duration(1), duration.Duration(1), duration.Duration(\n",
    "    1/2), duration.Duration(3/4)]  # quarter, eighth, dot-eighth\n",
    "bRythmModel = MarkovChainModel(rhythmicAtom,\n",
    "                               np.array([  # 遷移行列\n",
    "                                   [0, 1/2, 1/2],\n",
    "                                   [1/4, 1/2, 1/4],\n",
    "                                   [1/4, 1/2, 1/4]]))\n",
    "\n",
    "\n",
    "def compose2Voices(l=8, patterns=4):\n",
    "    mPatterns = []\n",
    "    bPatterns = []\n",
    "\n",
    "    for i in range(patterns):\n",
    "        # 音列・リズムを生成(メロディー)\n",
    "        mSequence, mRythm = mPitchModel.sample(l, start=4), mRythmModel.sample(l)\n",
    "        # 音列・リズムを生成(ベース)\n",
    "        bSequence, bRythm = bPitchModel.sample(l), bRythmModel.sample(l)\n",
    "\n",
    "        mPatterns.append(zip(mSequence, mRythm))\n",
    "        bPatterns.append(zip(bSequence, bRythm))\n",
    "\n",
    "    return mPatterns, bPatterns\n",
    "\n",
    "\n",
    "@interact(i=range(4), j=range(4), l=(1, 10))\n",
    "def demo(i, j, l=4):\n",
    "    beats = 32\n",
    "    \n",
    "    # メロディー・ベースパターンを作成\n",
    "    mPatterns, bPatterns = compose2Voices(l, 4)\n",
    "\n",
    "    score = stream.Score(id=\"mainsheet\")\n",
    "    mstm = stream.Part(id=\"melody\")\n",
    "    bstm = stream.Part(id=\"bass\")\n",
    "\n",
    "    melody = mPatterns[i]\n",
    "    bass = bPatterns[j]\n",
    "    \n",
    "    for p, d in melody:\n",
    "        mstm.append(note.Note(p, duration=d))\n",
    "\n",
    "    for p, d in bass:\n",
    "        bstm.append(note.Note(p, duration=d))\n",
    "\n",
    "    score.insert(0, mstm)\n",
    "    score.insert(0, bstm)\n",
    "\n",
    "    score.show();\n",
    "    score.show('midi');"
   ]
  },
  {
   "attachments": {},
   "cell_type": "markdown",
   "metadata": {},
   "source": [
    "--- \n",
    "\n",
    "### 3. さらなる改善点に向けて\n",
    "\n",
    "前セクションで行なったデモに関して, いくつか改善点が挙げられる\n",
    "\n",
    "**単一メロディー生成の改善点**<br>\n",
    "\n",
    "✅ マルコフ連鎖モデルの遷移行列を手動で指定したが, システマチックに与える方法はあるか. <br>\n",
    "✅ 高階のマルコフ連鎖：今回使用したモデルは, 現在の状態から次の状態が決まる単純マルコフ連鎖というモデルである. 対して, より過去の状態にも依存する<u>高階マルコフ連鎖</u>というモデルもあり, これを使うことで, 長い順次進行や特徴的な音列パターンの出現頻度が高まり, より音楽的内容が増すと考えられる.\n",
    "\n",
    "**2声の場合の改善点**<br>\n",
    "\n",
    "✅ 今回のデモではメロディとベースを独立に生成したが, メロディーとベースをうまく組み合わせる技術として音楽理論における<u>対位法</u>がある. 対位法の考え方をモデルに組み込むことで, より音楽的内容に富んだ音楽生成が可能だと考えられる.<br>"
   ]
  }
 ],
 "metadata": {
  "kernelspec": {
   "display_name": ".venv",
   "language": "python",
   "name": "python3"
  },
  "language_info": {
   "codemirror_mode": {
    "name": "ipython",
    "version": 3
   },
   "file_extension": ".py",
   "mimetype": "text/x-python",
   "name": "python",
   "nbconvert_exporter": "python",
   "pygments_lexer": "ipython3",
   "version": "3.9.16"
  },
  "orig_nbformat": 4
 },
 "nbformat": 4,
 "nbformat_minor": 2
}
